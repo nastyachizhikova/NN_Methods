{
  "nbformat": 4,
  "nbformat_minor": 0,
  "metadata": {
    "kernelspec": {
      "display_name": "Python 3",
      "language": "python",
      "name": "python3"
    },
    "language_info": {
      "codemirror_mode": {
        "name": "ipython",
        "version": 3
      },
      "file_extension": ".py",
      "mimetype": "text/x-python",
      "name": "python",
      "nbconvert_exporter": "python",
      "pygments_lexer": "ipython3",
      "version": "3.7.3"
    },
    "colab": {
      "name": "HW1_NN.ipynb",
      "provenance": [],
      "collapsed_sections": []
    }
  },
  "cells": [
    {
      "cell_type": "markdown",
      "metadata": {
        "id": "yGNLfWAfB8Tn"
      },
      "source": [
        "# ДЗ-1, Настя Чижикова "
      ]
    },
    {
      "cell_type": "code",
      "metadata": {
        "id": "XdoBMJGoDyWf"
      },
      "source": [
        "! pip install pandas --upgrade"
      ],
      "execution_count": null,
      "outputs": []
    },
    {
      "cell_type": "code",
      "metadata": {
        "id": "QgJgMF9jCGru"
      },
      "source": [
        "! pip install langdetect"
      ],
      "execution_count": null,
      "outputs": []
    },
    {
      "cell_type": "code",
      "metadata": {
        "colab": {
          "base_uri": "https://localhost:8080/"
        },
        "id": "RYx9xs-fB8Tv",
        "outputId": "199ba023-0138-48a0-e767-10558989c582"
      },
      "source": [
        "from langdetect import detect\n",
        "import nltk\n",
        "from nltk.corpus import stopwords\n",
        "from nltk.tokenize import word_tokenize\n",
        "import numpy as np\n",
        "import pandas as pd\n",
        "from sklearn.feature_extraction.text import CountVectorizer, TfidfVectorizer\n",
        "from sklearn.linear_model import LogisticRegression, LinearRegression, Ridge, Lasso, ElasticNet\n",
        "from sklearn.metrics import mean_absolute_error, mean_squared_error\n",
        "from sklearn.model_selection import train_test_split\n",
        "from sklearn.tree import DecisionTreeRegressor\n",
        "import spacy\n",
        "import string\n",
        "\n",
        "nltk.download('stopwords')\n",
        "nltk.download('punkt')\n",
        "stop_words = list(set(stopwords.words('english')))\n",
        "stop_words.remove('not')\n",
        "stop_words.remove('very')"
      ],
      "execution_count": 2,
      "outputs": [
        {
          "output_type": "stream",
          "name": "stdout",
          "text": [
            "[nltk_data] Downloading package stopwords to /root/nltk_data...\n",
            "[nltk_data]   Unzipping corpora/stopwords.zip.\n",
            "[nltk_data] Downloading package punkt to /root/nltk_data...\n",
            "[nltk_data]   Unzipping tokenizers/punkt.zip.\n"
          ]
        }
      ]
    },
    {
      "cell_type": "code",
      "metadata": {
        "id": "UugV3uY6B8Tz"
      },
      "source": [
        "data = pd.read_csv('Shoes_Data.csv')"
      ],
      "execution_count": 3,
      "outputs": []
    },
    {
      "cell_type": "code",
      "metadata": {
        "scrolled": true,
        "colab": {
          "base_uri": "https://localhost:8080/",
          "height": 307
        },
        "id": "U_DdonTGB8T0",
        "outputId": "8ed0f913-b039-43ff-8cb6-abef5e77bc95"
      },
      "source": [
        "data.head()"
      ],
      "execution_count": 4,
      "outputs": [
        {
          "output_type": "execute_result",
          "data": {
            "text/html": [
              "<div>\n",
              "<style scoped>\n",
              "    .dataframe tbody tr th:only-of-type {\n",
              "        vertical-align: middle;\n",
              "    }\n",
              "\n",
              "    .dataframe tbody tr th {\n",
              "        vertical-align: top;\n",
              "    }\n",
              "\n",
              "    .dataframe thead th {\n",
              "        text-align: right;\n",
              "    }\n",
              "</style>\n",
              "<table border=\"1\" class=\"dataframe\">\n",
              "  <thead>\n",
              "    <tr style=\"text-align: right;\">\n",
              "      <th></th>\n",
              "      <th>title</th>\n",
              "      <th>price</th>\n",
              "      <th>rating</th>\n",
              "      <th>total_reviews</th>\n",
              "      <th>product_description</th>\n",
              "      <th>reviews</th>\n",
              "      <th>reviews_rating</th>\n",
              "      <th>Shoe Type</th>\n",
              "    </tr>\n",
              "  </thead>\n",
              "  <tbody>\n",
              "    <tr>\n",
              "      <th>0</th>\n",
              "      <td>CLYMB Outdoor Sports Running Shoes for Mens Boy</td>\n",
              "      <td>₹279.00</td>\n",
              "      <td>2.9 out of 5 stars</td>\n",
              "      <td>2389 ratings</td>\n",
              "      <td>Elevate your style with this classy pair of Ru...</td>\n",
              "      <td>Not happy with product|| It's not as expected....</td>\n",
              "      <td>1.0 out of 5 stars|| 1.0 out of 5 stars|| 3.0 ...</td>\n",
              "      <td>Men</td>\n",
              "    </tr>\n",
              "    <tr>\n",
              "      <th>1</th>\n",
              "      <td>Bourge Men's Loire-z126 Running Shoes</td>\n",
              "      <td>₹479.00</td>\n",
              "      <td>3.9 out of 5 stars</td>\n",
              "      <td>11520 ratings</td>\n",
              "      <td>The product will be an excellent pick for you....</td>\n",
              "      <td>Memory cushioning in these shoes is the best f...</td>\n",
              "      <td>5.0 out of 5 stars|| 1.0 out of 5 stars|| 5.0 ...</td>\n",
              "      <td>Men</td>\n",
              "    </tr>\n",
              "    <tr>\n",
              "      <th>2</th>\n",
              "      <td>T-Rock Men's Sneaker</td>\n",
              "      <td>₹430.00</td>\n",
              "      <td>3.3 out of 5 stars</td>\n",
              "      <td>1251 ratings</td>\n",
              "      <td>Flaunt with these stylish and unique red casua...</td>\n",
              "      <td>Worth to its amount|| Go for it|| Perfect|| 5 ...</td>\n",
              "      <td>5.0 out of 5 stars|| 5.0 out of 5 stars|| 5.0 ...</td>\n",
              "      <td>Men</td>\n",
              "    </tr>\n",
              "    <tr>\n",
              "      <th>3</th>\n",
              "      <td>Robbie jones Sneakers Casual Canvas Fabric Col...</td>\n",
              "      <td>₹499.00</td>\n",
              "      <td>4.2 out of 5 stars</td>\n",
              "      <td>3 ratings</td>\n",
              "      <td>Robbie Jones Shoes Are Designed To Keeping In ...</td>\n",
              "      <td>Sup quality|| Good but not expected|| Awesome 👌.!</td>\n",
              "      <td>5.0 out of 5 stars|| 3.0 out of 5 stars|| 5.0 ...</td>\n",
              "      <td>Men</td>\n",
              "    </tr>\n",
              "    <tr>\n",
              "      <th>4</th>\n",
              "      <td>Sparx Men's Sd0323g Sneakers</td>\n",
              "      <td>₹499.00</td>\n",
              "      <td>4.2 out of 5 stars</td>\n",
              "      <td>20110 ratings</td>\n",
              "      <td>Sparx is a spectacular range of footwear from ...</td>\n",
              "      <td>Best|| Satisfied!|| Affordable beauty 😘😘😘😘 the...</td>\n",
              "      <td>5.0 out of 5 stars|| 5.0 out of 5 stars|| 5.0 ...</td>\n",
              "      <td>Men</td>\n",
              "    </tr>\n",
              "  </tbody>\n",
              "</table>\n",
              "</div>"
            ],
            "text/plain": [
              "                                               title  ... Shoe Type\n",
              "0    CLYMB Outdoor Sports Running Shoes for Mens Boy  ...       Men\n",
              "1              Bourge Men's Loire-z126 Running Shoes  ...       Men\n",
              "2                               T-Rock Men's Sneaker  ...       Men\n",
              "3  Robbie jones Sneakers Casual Canvas Fabric Col...  ...       Men\n",
              "4                       Sparx Men's Sd0323g Sneakers  ...       Men\n",
              "\n",
              "[5 rows x 8 columns]"
            ]
          },
          "metadata": {},
          "execution_count": 4
        }
      ]
    },
    {
      "cell_type": "markdown",
      "metadata": {
        "id": "tRF65AJYB8T3"
      },
      "source": [
        "## Задание 1 (задача регрессии)"
      ]
    },
    {
      "cell_type": "code",
      "metadata": {
        "id": "KZIddhuaB8T5"
      },
      "source": [
        "def clean_price(price: str) -> float:\n",
        "    return float(price[1:])"
      ],
      "execution_count": 5,
      "outputs": []
    },
    {
      "cell_type": "code",
      "metadata": {
        "id": "fVF9TsRMB8T6"
      },
      "source": [
        "def preprocess(text: str) -> str:\n",
        "    text = text.lower()\n",
        "    tokens = word_tokenize(text)\n",
        "    new_tokens = [token for token in tokens if token.isalpha() and token not in stop_words]\n",
        "    \n",
        "    return ' '.join(new_tokens)"
      ],
      "execution_count": 6,
      "outputs": []
    },
    {
      "cell_type": "markdown",
      "metadata": {
        "id": "Te_fHPsOw13W"
      },
      "source": [
        "Приводим колонку price к числовому формату, препроцессим тексты описания (убираем всё, что не слова и избавляемся от стоп-слов)"
      ]
    },
    {
      "cell_type": "code",
      "metadata": {
        "id": "EIFhhceZB8T8"
      },
      "source": [
        "df_1 = pd.DataFrame()\n",
        "df_1['price'] = data['price'].apply(clean_price)\n",
        "df_1['description'] = data['product_description']\n",
        "#df_1['full_description'] = data['title'] + ' ' + data['product_description']"
      ],
      "execution_count": 7,
      "outputs": []
    },
    {
      "cell_type": "code",
      "metadata": {
        "id": "7bBOnMNCB8T-"
      },
      "source": [
        "df_1['description'] = df_1.description.apply(preprocess)"
      ],
      "execution_count": 8,
      "outputs": []
    },
    {
      "cell_type": "markdown",
      "metadata": {
        "id": "yRnKOUWv4G6y"
      },
      "source": [
        "Есть ли в данных пропуски"
      ]
    },
    {
      "cell_type": "code",
      "metadata": {
        "colab": {
          "base_uri": "https://localhost:8080/"
        },
        "id": "RPYOfmzHB8T_",
        "outputId": "2ec0872c-e677-4e01-a01e-13fbb2d9a197"
      },
      "source": [
        "df_1.isna().sum()"
      ],
      "execution_count": 9,
      "outputs": [
        {
          "output_type": "execute_result",
          "data": {
            "text/plain": [
              "price          0\n",
              "description    0\n",
              "dtype: int64"
            ]
          },
          "metadata": {},
          "execution_count": 9
        }
      ]
    },
    {
      "cell_type": "markdown",
      "metadata": {
        "id": "U-VBLzMj4KvW"
      },
      "source": [
        "После препроцессинга некоторые тексты оказались пустыми (а некоторые были пустыми и до) - убираем их"
      ]
    },
    {
      "cell_type": "code",
      "metadata": {
        "id": "5IVuI_5EB8UA"
      },
      "source": [
        "df_1 = df_1[(df_1.description != ' ') & (df_1.description != '')]"
      ],
      "execution_count": 10,
      "outputs": []
    },
    {
      "cell_type": "markdown",
      "metadata": {
        "id": "abXSCc1A4TMC"
      },
      "source": [
        "И избавляемся от дублей"
      ]
    },
    {
      "cell_type": "code",
      "metadata": {
        "scrolled": true,
        "id": "ezt4RjDTB8UB"
      },
      "source": [
        "df_1 = df_1.drop_duplicates(subset=['description'])\n",
        "df_1.reset_index(inplace=True, drop=True)"
      ],
      "execution_count": 11,
      "outputs": []
    },
    {
      "cell_type": "code",
      "metadata": {
        "colab": {
          "base_uri": "https://localhost:8080/",
          "height": 204
        },
        "id": "WE7b2_RcB8UB",
        "outputId": "c70f7669-838e-4960-9aed-056961262210"
      },
      "source": [
        "df_1.head()"
      ],
      "execution_count": 12,
      "outputs": [
        {
          "output_type": "execute_result",
          "data": {
            "text/html": [
              "<div>\n",
              "<style scoped>\n",
              "    .dataframe tbody tr th:only-of-type {\n",
              "        vertical-align: middle;\n",
              "    }\n",
              "\n",
              "    .dataframe tbody tr th {\n",
              "        vertical-align: top;\n",
              "    }\n",
              "\n",
              "    .dataframe thead th {\n",
              "        text-align: right;\n",
              "    }\n",
              "</style>\n",
              "<table border=\"1\" class=\"dataframe\">\n",
              "  <thead>\n",
              "    <tr style=\"text-align: right;\">\n",
              "      <th></th>\n",
              "      <th>price</th>\n",
              "      <th>description</th>\n",
              "    </tr>\n",
              "  </thead>\n",
              "  <tbody>\n",
              "    <tr>\n",
              "      <th>0</th>\n",
              "      <td>279.0</td>\n",
              "      <td>elevate style classy pair running shoe house c...</td>\n",
              "    </tr>\n",
              "    <tr>\n",
              "      <th>1</th>\n",
              "      <td>479.0</td>\n",
              "      <td>product excellent pick ensures easy maintenance</td>\n",
              "    </tr>\n",
              "    <tr>\n",
              "      <th>2</th>\n",
              "      <td>430.0</td>\n",
              "      <td>flaunt stylish unique red casual shoes per lat...</td>\n",
              "    </tr>\n",
              "    <tr>\n",
              "      <th>3</th>\n",
              "      <td>499.0</td>\n",
              "      <td>robbie jones shoes designed keeping mind durab...</td>\n",
              "    </tr>\n",
              "    <tr>\n",
              "      <th>4</th>\n",
              "      <td>499.0</td>\n",
              "      <td>sparx spectacular range footwear house relaxo ...</td>\n",
              "    </tr>\n",
              "  </tbody>\n",
              "</table>\n",
              "</div>"
            ],
            "text/plain": [
              "   price                                        description\n",
              "0  279.0  elevate style classy pair running shoe house c...\n",
              "1  479.0    product excellent pick ensures easy maintenance\n",
              "2  430.0  flaunt stylish unique red casual shoes per lat...\n",
              "3  499.0  robbie jones shoes designed keeping mind durab...\n",
              "4  499.0  sparx spectacular range footwear house relaxo ..."
            ]
          },
          "metadata": {},
          "execution_count": 12
        }
      ]
    },
    {
      "cell_type": "markdown",
      "metadata": {
        "id": "LB4BVTX36lZz"
      },
      "source": [
        "Убираем все данные, где описание не не английском"
      ]
    },
    {
      "cell_type": "code",
      "metadata": {
        "scrolled": true,
        "colab": {
          "base_uri": "https://localhost:8080/",
          "height": 204
        },
        "id": "ApblRJIcB8UE",
        "outputId": "7b10f345-eaef-427e-84b8-c41390191ac5"
      },
      "source": [
        "df_1['language'] = df_1.description.apply(detect)\n",
        "df_1 = df_1[df_1.language == 'en']\n",
        "df_1.reset_index()\n",
        "df_1.head()"
      ],
      "execution_count": 13,
      "outputs": [
        {
          "output_type": "execute_result",
          "data": {
            "text/html": [
              "<div>\n",
              "<style scoped>\n",
              "    .dataframe tbody tr th:only-of-type {\n",
              "        vertical-align: middle;\n",
              "    }\n",
              "\n",
              "    .dataframe tbody tr th {\n",
              "        vertical-align: top;\n",
              "    }\n",
              "\n",
              "    .dataframe thead th {\n",
              "        text-align: right;\n",
              "    }\n",
              "</style>\n",
              "<table border=\"1\" class=\"dataframe\">\n",
              "  <thead>\n",
              "    <tr style=\"text-align: right;\">\n",
              "      <th></th>\n",
              "      <th>price</th>\n",
              "      <th>description</th>\n",
              "      <th>language</th>\n",
              "    </tr>\n",
              "  </thead>\n",
              "  <tbody>\n",
              "    <tr>\n",
              "      <th>0</th>\n",
              "      <td>279.0</td>\n",
              "      <td>elevate style classy pair running shoe house c...</td>\n",
              "      <td>en</td>\n",
              "    </tr>\n",
              "    <tr>\n",
              "      <th>2</th>\n",
              "      <td>430.0</td>\n",
              "      <td>flaunt stylish unique red casual shoes per lat...</td>\n",
              "      <td>en</td>\n",
              "    </tr>\n",
              "    <tr>\n",
              "      <th>3</th>\n",
              "      <td>499.0</td>\n",
              "      <td>robbie jones shoes designed keeping mind durab...</td>\n",
              "      <td>en</td>\n",
              "    </tr>\n",
              "    <tr>\n",
              "      <th>4</th>\n",
              "      <td>499.0</td>\n",
              "      <td>sparx spectacular range footwear house relaxo ...</td>\n",
              "      <td>en</td>\n",
              "    </tr>\n",
              "    <tr>\n",
              "      <th>5</th>\n",
              "      <td>449.0</td>\n",
              "      <td>casual shoes boys mens white colour</td>\n",
              "      <td>en</td>\n",
              "    </tr>\n",
              "  </tbody>\n",
              "</table>\n",
              "</div>"
            ],
            "text/plain": [
              "   price                                        description language\n",
              "0  279.0  elevate style classy pair running shoe house c...       en\n",
              "2  430.0  flaunt stylish unique red casual shoes per lat...       en\n",
              "3  499.0  robbie jones shoes designed keeping mind durab...       en\n",
              "4  499.0  sparx spectacular range footwear house relaxo ...       en\n",
              "5  449.0                casual shoes boys mens white colour       en"
            ]
          },
          "metadata": {},
          "execution_count": 13
        }
      ]
    },
    {
      "cell_type": "markdown",
      "metadata": {
        "id": "eyS18A4l4bf_"
      },
      "source": [
        "Посмотрим распределение целевой перменной - видим, что средняя цена составляет примерно 1500, при этом достаточно много выбросов, максимальное значение - 8000"
      ]
    },
    {
      "cell_type": "code",
      "metadata": {
        "colab": {
          "base_uri": "https://localhost:8080/",
          "height": 283
        },
        "id": "glNoYVVIB8UC",
        "outputId": "59e2c814-7ccd-4410-c37b-19f01d3dd5f2"
      },
      "source": [
        "df_1.boxplot(column=['price'])"
      ],
      "execution_count": 14,
      "outputs": [
        {
          "output_type": "execute_result",
          "data": {
            "text/plain": [
              "<matplotlib.axes._subplots.AxesSubplot at 0x7fd1840e3810>"
            ]
          },
          "metadata": {},
          "execution_count": 14
        },
        {
          "output_type": "display_data",
          "data": {
            "image/png": "[encoded data removed]",
            "text/plain": [
              "<Figure size 432x288 with 1 Axes>"
            ]
          },
          "metadata": {
            "needs_background": "light"
          }
        }
      ]
    },
    {
      "cell_type": "markdown",
      "metadata": {
        "id": "FEZBsxxV5yCT"
      },
      "source": [
        "Посмотрим распределение длины описания - видим, что в среднем после препроцессинга длина описания небольшая (до 50 токенов), но встречаются и длинные"
      ]
    },
    {
      "cell_type": "code",
      "metadata": {
        "colab": {
          "base_uri": "https://localhost:8080/",
          "height": 284
        },
        "id": "RT0d4vwhB8UD",
        "outputId": "48e95412-e8ba-4c89-9c9a-1014f3dc2ac0"
      },
      "source": [
        "def get_length(text: str) -> int:\n",
        "    return len(word_tokenize(text))\n",
        "\n",
        "df_1['description_len'] = df_1.description.apply(get_length)\n",
        "df_1.boxplot(column=['description_len'])"
      ],
      "execution_count": 15,
      "outputs": [
        {
          "output_type": "execute_result",
          "data": {
            "text/plain": [
              "<matplotlib.axes._subplots.AxesSubplot at 0x7fd1838d0ad0>"
            ]
          },
          "metadata": {},
          "execution_count": 15
        },
        {
          "output_type": "display_data",
          "data": {
            "image/png": "[encoded data removed]",
            "text/plain": [
              "<Figure size 432x288 with 1 Axes>"
            ]
          },
          "metadata": {
            "needs_background": "light"
          }
        }
      ]
    },
    {
      "cell_type": "markdown",
      "metadata": {
        "id": "zNBFghZQ9VMV"
      },
      "source": [
        "Финальное количество данных"
      ]
    },
    {
      "cell_type": "code",
      "metadata": {
        "colab": {
          "base_uri": "https://localhost:8080/"
        },
        "id": "R5Zzq3A5B8UE",
        "outputId": "6395c911-bd46-4972-872b-e2ef94af1bc1"
      },
      "source": [
        "df_1.shape"
      ],
      "execution_count": 16,
      "outputs": [
        {
          "output_type": "execute_result",
          "data": {
            "text/plain": [
              "(672, 4)"
            ]
          },
          "metadata": {},
          "execution_count": 16
        }
      ]
    },
    {
      "cell_type": "markdown",
      "metadata": {
        "id": "8thp9-diB8UF"
      },
      "source": [
        "### Гридсерч по моделям и векторайзерам"
      ]
    },
    {
      "cell_type": "code",
      "metadata": {
        "id": "_xjXWASvB8UF"
      },
      "source": [
        "y = df_1.price.values\n",
        "X = df_1.description.values\n",
        "\n",
        "data_train, data_test, y_train, y_test = train_test_split(X, y, test_size=0.2, random_state=42)"
      ],
      "execution_count": 17,
      "outputs": []
    },
    {
      "cell_type": "code",
      "metadata": {
        "colab": {
          "base_uri": "https://localhost:8080/"
        },
        "id": "mnCvuBSKB8UG",
        "outputId": "8db122d9-0d5e-4681-ce00-f4234b54e473"
      },
      "source": [
        "# baseline\n",
        "vectorizer = CountVectorizer(min_df=5)\n",
        "X_train = vectorizer.fit_transform(data_train)\n",
        "\n",
        "X_test = vectorizer.transform(data_test)\n",
        "print('X and y_train shapes: ', X_train.shape, y_train.shape)\n",
        "\n",
        "linreg = LinearRegression().fit(X_train, y_train)\n",
        "y_pred = linreg.predict(X_test)\n",
        "\n",
        "print('MAE: ', mean_absolute_error(y_test, y_pred))"
      ],
      "execution_count": 19,
      "outputs": [
        {
          "output_type": "stream",
          "name": "stdout",
          "text": [
            "X and y_train shapes:  (537, 805) (537,)\n",
            "MAE:  3132.383334058674\n"
          ]
        }
      ]
    },
    {
      "cell_type": "code",
      "metadata": {
        "id": "nITJqz7EGEin"
      },
      "source": [
        "from sklearn.pipeline import Pipeline\n",
        "\n",
        "\n",
        "dt_pipe = Pipeline([\n",
        " ('tvec', TfidfVectorizer(min_df=5)),\n",
        " ('dt', DecisionTreeRegressor(random_state=42))\n",
        "])\n",
        "\n",
        "rid_pipe = Pipeline([\n",
        " ('tvec', TfidfVectorizer(min_df=5)),\n",
        " ('rid', Ridge(random_state=42))\n",
        "])\n",
        "\n",
        "las_pipe = Pipeline([\n",
        " ('tvec', TfidfVectorizer(min_df=5)),\n",
        " ('las', Lasso(random_state=42))\n",
        "])\n",
        "\n",
        "\n",
        "dt_pipe_2 = Pipeline([\n",
        " ('cvec', CountVectorizer(min_df=5)),\n",
        " ('dt', DecisionTreeRegressor(random_state=42))\n",
        "])\n",
        "\n",
        "rid_pipe_2 = Pipeline([\n",
        " ('cvec', CountVectorizer(min_df=5)),\n",
        " ('rid', Ridge(random_state=42))\n",
        "])\n",
        "\n",
        "las_pipe_2 = Pipeline([\n",
        " ('cvec', CountVectorizer(min_df=5)),\n",
        " ('las', Lasso(random_state=42))\n",
        "])\n",
        "\n",
        "\n",
        "dt_params = {\n",
        " 'dt__max_depth':[5, 10, 50, 100, 500, 1000, None],\n",
        " 'dt__min_samples_split': [2, 4, 6, 8],\n",
        " 'dt__max_features': [None, 'auto', 'sqrt', 'log2'],\n",
        "}\n",
        "\n",
        "rid_params = {\n",
        " 'rid__alpha': [0.001, 0.01, 0.1, 1, 10, 100, 1000],\n",
        "}\n",
        "\n",
        "las_params = {\n",
        " 'las__alpha': [0.001, 0.01, 0.1, 1, 10, 100, 1000],\n",
        "}"
      ],
      "execution_count": 20,
      "outputs": []
    },
    {
      "cell_type": "code",
      "metadata": {
        "colab": {
          "base_uri": "https://localhost:8080/"
        },
        "id": "IzbSGkVWOyxZ",
        "outputId": "28fa5270-a8dd-47b2-9cbf-ab88a4f9b1a3"
      },
      "source": [
        "from sklearn.model_selection import GridSearchCV\n",
        "\n",
        "dt_gs = GridSearchCV(dt_pipe, param_grid=dt_params, cv = 3, verbose = 0, n_jobs = -1, scoring='neg_mean_absolute_error').fit(data_train, y_train)\n",
        "rid_gs = GridSearchCV(rid_pipe, param_grid=rid_params, cv = 3, verbose = 0, n_jobs = -1, scoring='neg_mean_absolute_error').fit(data_train, y_train)\n",
        "las_gs = GridSearchCV(las_pipe, param_grid=las_params, cv = 3, verbose = 0, n_jobs = -1, scoring='neg_mean_absolute_error').fit(data_train, y_train)\n",
        "\n",
        "dt_gs_2 = GridSearchCV(dt_pipe_2, param_grid=dt_params, cv = 3, verbose = 0, n_jobs = -1, scoring='neg_mean_absolute_error').fit(data_train, y_train)\n",
        "rid_gs_2 = GridSearchCV(rid_pipe_2, param_grid=rid_params, cv = 3, verbose = 0, n_jobs = -1, scoring='neg_mean_absolute_error').fit(data_train, y_train)\n",
        "las_gs_2 = GridSearchCV(las_pipe_2, param_grid=las_params, cv = 3, verbose = 0, n_jobs = -1, scoring='neg_mean_absolute_error').fit(data_train, y_train)\n",
        "\n",
        "print('Best Score DecisionTree + TfIdf: %s' % dt_gs.best_score_)\n",
        "print('Best DecisionTree + TfIdf Hyperparameters: %s' % dt_gs.best_params_)\n",
        "print('\\n')\n",
        "\n",
        "print('Best Score Ridge + TfIdf: %s' % rid_gs.best_score_)\n",
        "print('Best Ridge + TfIdf Hyperparameters: %s' % rid_gs.best_params_)\n",
        "print('\\n')\n",
        "\n",
        "print('Best Score Lasso + TfIdf: %s' % las_gs.best_score_)\n",
        "print('Best Lasso + TfIdf Hyperparameters: %s' % las_gs.best_params_)\n",
        "print('\\n')\n",
        "\n",
        "print('Best Score DecisionTree + CountVect: %s' % dt_gs_2.best_score_)\n",
        "print('Best DecisionTree + TfIdf Hyperparameters: %s' % dt_gs_2.best_params_)\n",
        "print('\\n')\n",
        "\n",
        "print('Best Score Ridge + CountVect: %s' % rid_gs_2.best_score_)\n",
        "print('Best Ridge + CountVect Hyperparameters: %s' % rid_gs_2.best_params_)\n",
        "print('\\n')\n",
        "\n",
        "print('Best Score Lasso + CountVect: %s' % las_gs_2.best_score_)\n",
        "print('Best Lasso + CountVect Hyperparameters: %s' % las_gs_2.best_params_)"
      ],
      "execution_count": 21,
      "outputs": [
        {
          "output_type": "stream",
          "name": "stdout",
          "text": [
            "Best Score DecisionTree + TfIdf: -1135.9106001013915\n",
            "Best DecisionTree + TfIdf Hyperparameters: {'dt__max_depth': 10, 'dt__max_features': 'log2', 'dt__min_samples_split': 2}\n",
            "\n",
            "\n",
            "Best Score Ridge + TfIdf: -878.7162733126974\n",
            "Best Ridge + TfIdf Hyperparameters: {'rid__alpha': 1}\n",
            "\n",
            "\n",
            "Best Score Lasso + TfIdf: -987.06968144682\n",
            "Best Lasso + TfIdf Hyperparameters: {'las__alpha': 1}\n",
            "\n",
            "\n",
            "Best Score DecisionTree + CountVect: -1070.4856605572243\n",
            "Best DecisionTree + TfIdf Hyperparameters: {'dt__max_depth': 10, 'dt__max_features': None, 'dt__min_samples_split': 8}\n",
            "\n",
            "\n",
            "Best Score Ridge + CountVect: -940.7031791761792\n",
            "Best Ridge + CountVect Hyperparameters: {'rid__alpha': 100}\n",
            "\n",
            "\n",
            "Best Score Lasso + CountVect: -1004.9855184822982\n",
            "Best Lasso + CountVect Hyperparameters: {'las__alpha': 10}\n"
          ]
        }
      ]
    },
    {
      "cell_type": "markdown",
      "metadata": {
        "id": "x3qqbpoQ9aSY"
      },
      "source": [
        "Качество на тесте для лучшей модели гридсерча (векторизация TfIdf + Ridge)\n",
        "\n"
      ]
    },
    {
      "cell_type": "code",
      "metadata": {
        "colab": {
          "base_uri": "https://localhost:8080/"
        },
        "id": "0xBNWUqDB8UJ",
        "outputId": "365e9d60-3e3e-4a46-d752-52b099dc2299"
      },
      "source": [
        "rid_pipe.fit(data_train, y_train)\n",
        "y_pred = rid_pipe.predict(data_test)\n",
        "\n",
        "mean_absolute_error(y_test, y_pred)"
      ],
      "execution_count": 25,
      "outputs": [
        {
          "output_type": "execute_result",
          "data": {
            "text/plain": [
              "891.2737861821257"
            ]
          },
          "metadata": {},
          "execution_count": 25
        }
      ]
    },
    {
      "cell_type": "code",
      "metadata": {
        "id": "crWZ0v-nZMlE"
      },
      "source": [
        "from matplotlib import pyplot\n",
        "\n",
        "\n",
        "importance = reg_ridge.coef_\n",
        " \n",
        "imp_df = pd.DataFrame()\n",
        "imp_df['word'] = vectorizer.vocabulary_.keys()\n",
        "imp_df['importance'] = importance"
      ],
      "execution_count": null,
      "outputs": []
    },
    {
      "cell_type": "markdown",
      "metadata": {
        "id": "hW4av-oDdpJp"
      },
      "source": [
        "Анализ того, что получилось у модели"
      ]
    },
    {
      "cell_type": "code",
      "metadata": {
        "colab": {
          "base_uri": "https://localhost:8080/",
          "height": 359
        },
        "id": "MjecOZsUbRf8",
        "outputId": "d77f942e-cbaa-4f55-e8da-1353988c62c1"
      },
      "source": [
        "imp_df['importance'] = imp_df.importance.apply(abs)\n",
        "imp_df = imp_df.sort_values(by='importance', ascending=False)\n",
        "imp_df.head(10)"
      ],
      "execution_count": null,
      "outputs": [
        {
          "output_type": "execute_result",
          "data": {
            "text/html": [
              "<div>\n",
              "<style scoped>\n",
              "    .dataframe tbody tr th:only-of-type {\n",
              "        vertical-align: middle;\n",
              "    }\n",
              "\n",
              "    .dataframe tbody tr th {\n",
              "        vertical-align: top;\n",
              "    }\n",
              "\n",
              "    .dataframe thead th {\n",
              "        text-align: right;\n",
              "    }\n",
              "</style>\n",
              "<table border=\"1\" class=\"dataframe\">\n",
              "  <thead>\n",
              "    <tr style=\"text-align: right;\">\n",
              "      <th></th>\n",
              "      <th>word</th>\n",
              "      <th>importance</th>\n",
              "    </tr>\n",
              "  </thead>\n",
              "  <tbody>\n",
              "    <tr>\n",
              "      <th>479</th>\n",
              "      <td>whether</td>\n",
              "      <td>2978.459341</td>\n",
              "    </tr>\n",
              "    <tr>\n",
              "      <th>809</th>\n",
              "      <td>option</td>\n",
              "      <td>2453.509108</td>\n",
              "    </tr>\n",
              "    <tr>\n",
              "      <th>294</th>\n",
              "      <td>let</td>\n",
              "      <td>1853.231713</td>\n",
              "    </tr>\n",
              "    <tr>\n",
              "      <th>617</th>\n",
              "      <td>speed</td>\n",
              "      <td>1713.863880</td>\n",
              "    </tr>\n",
              "    <tr>\n",
              "      <th>59</th>\n",
              "      <td>flat</td>\n",
              "      <td>1686.229873</td>\n",
              "    </tr>\n",
              "    <tr>\n",
              "      <th>73</th>\n",
              "      <td>style</td>\n",
              "      <td>1575.331249</td>\n",
              "    </tr>\n",
              "    <tr>\n",
              "      <th>214</th>\n",
              "      <td>cushioned</td>\n",
              "      <td>1552.874132</td>\n",
              "    </tr>\n",
              "    <tr>\n",
              "      <th>650</th>\n",
              "      <td>suitable</td>\n",
              "      <td>1542.728643</td>\n",
              "    </tr>\n",
              "    <tr>\n",
              "      <th>731</th>\n",
              "      <td>pace</td>\n",
              "      <td>1536.995373</td>\n",
              "    </tr>\n",
              "    <tr>\n",
              "      <th>460</th>\n",
              "      <td>breaking</td>\n",
              "      <td>1519.993254</td>\n",
              "    </tr>\n",
              "  </tbody>\n",
              "</table>\n",
              "</div>"
            ],
            "text/plain": [
              "          word   importance\n",
              "479    whether  2978.459341\n",
              "809     option  2453.509108\n",
              "294        let  1853.231713\n",
              "617      speed  1713.863880\n",
              "59        flat  1686.229873\n",
              "73       style  1575.331249\n",
              "214  cushioned  1552.874132\n",
              "650   suitable  1542.728643\n",
              "731       pace  1536.995373\n",
              "460   breaking  1519.993254"
            ]
          },
          "metadata": {},
          "execution_count": 62
        }
      ]
    },
    {
      "cell_type": "markdown",
      "metadata": {
        "id": "2w2yJbmvcuff"
      },
      "source": [
        "Не очень ясно, откуда здесь слова типа whether и let, но некоторые из них можно интерпретировать - на цену влияет \"удобство\", вид подошвы и тд."
      ]
    },
    {
      "cell_type": "markdown",
      "metadata": {
        "id": "f3sMrj4VdJhQ"
      },
      "source": [
        "Посмотрим, коррелирует ли ошибка с длиной описания"
      ]
    },
    {
      "cell_type": "code",
      "metadata": {
        "id": "DpKBvd2idUOb"
      },
      "source": [
        "test_df = pd.DataFrame()\n",
        "test_df['description'] = data_test\n",
        "test_df['y_true'] = y_test\n",
        "test_df['y_pred'] = y_pred\n",
        "test_df['error'] = abs(test_df['y_true'] - test_df['y_pred'])\n",
        "test_df['len'] = test_df.description.apply(get_length)"
      ],
      "execution_count": null,
      "outputs": []
    },
    {
      "cell_type": "code",
      "metadata": {
        "colab": {
          "base_uri": "https://localhost:8080/",
          "height": 111
        },
        "id": "Shb9wo0_eXl8",
        "outputId": "c1cfec06-0a13-4659-ae05-080c45e33ed3"
      },
      "source": [
        "test_df[['error', 'len']].corr()"
      ],
      "execution_count": null,
      "outputs": [
        {
          "output_type": "execute_result",
          "data": {
            "text/html": [
              "<div>\n",
              "<style scoped>\n",
              "    .dataframe tbody tr th:only-of-type {\n",
              "        vertical-align: middle;\n",
              "    }\n",
              "\n",
              "    .dataframe tbody tr th {\n",
              "        vertical-align: top;\n",
              "    }\n",
              "\n",
              "    .dataframe thead th {\n",
              "        text-align: right;\n",
              "    }\n",
              "</style>\n",
              "<table border=\"1\" class=\"dataframe\">\n",
              "  <thead>\n",
              "    <tr style=\"text-align: right;\">\n",
              "      <th></th>\n",
              "      <th>error</th>\n",
              "      <th>len</th>\n",
              "    </tr>\n",
              "  </thead>\n",
              "  <tbody>\n",
              "    <tr>\n",
              "      <th>error</th>\n",
              "      <td>1.000000</td>\n",
              "      <td>0.017235</td>\n",
              "    </tr>\n",
              "    <tr>\n",
              "      <th>len</th>\n",
              "      <td>0.017235</td>\n",
              "      <td>1.000000</td>\n",
              "    </tr>\n",
              "  </tbody>\n",
              "</table>\n",
              "</div>"
            ],
            "text/plain": [
              "          error       len\n",
              "error  1.000000  0.017235\n",
              "len    0.017235  1.000000"
            ]
          },
          "metadata": {},
          "execution_count": 66
        }
      ]
    },
    {
      "cell_type": "markdown",
      "metadata": {
        "id": "FfBYt1-bepkc"
      },
      "source": [
        "Корреляция приближена к нулю -  на наших данных корреляции длины описания и ошибки модели не нейдено"
      ]
    },
    {
      "cell_type": "markdown",
      "metadata": {
        "id": "fJiIHSLjB8UK"
      },
      "source": [
        "## Задание 2 (классификация)"
      ]
    },
    {
      "cell_type": "markdown",
      "metadata": {
        "id": "H248i6uNKbJ9"
      },
      "source": [
        "Делим строки с несколькими отзывами на отдельные и приводим оценку к числовому виду"
      ]
    },
    {
      "cell_type": "code",
      "metadata": {
        "id": "DPR9eWO3B8UK"
      },
      "source": [
        "df_2 = pd.DataFrame()\n",
        "df_2['reviews_rating'] = data.reviews_rating.str.split(pat=\"\\|\\| \")\n",
        "df_2['reviews'] = data.reviews.str.split(pat=\"\\|\\| \")\n",
        "df_2 = df_2.explode(['reviews_rating', 'reviews'], ignore_index=True)"
      ],
      "execution_count": 26,
      "outputs": []
    },
    {
      "cell_type": "code",
      "metadata": {
        "id": "41HNXrWAB8UK"
      },
      "source": [
        "df_2.reviews_rating.replace(to_replace=r' out of 5 stars', value='', regex=True, inplace=True)\n",
        "df_2['reviews_rating'] = df_2.reviews_rating.astype(float).astype(int)"
      ],
      "execution_count": 27,
      "outputs": []
    },
    {
      "cell_type": "code",
      "metadata": {
        "colab": {
          "base_uri": "https://localhost:8080/",
          "height": 204
        },
        "id": "9gi04b0NB8UL",
        "outputId": "b79f1127-5a85-48e1-9520-390afd6b8adb"
      },
      "source": [
        "df_2.head()"
      ],
      "execution_count": 28,
      "outputs": [
        {
          "output_type": "execute_result",
          "data": {
            "text/html": [
              "<div>\n",
              "<style scoped>\n",
              "    .dataframe tbody tr th:only-of-type {\n",
              "        vertical-align: middle;\n",
              "    }\n",
              "\n",
              "    .dataframe tbody tr th {\n",
              "        vertical-align: top;\n",
              "    }\n",
              "\n",
              "    .dataframe thead th {\n",
              "        text-align: right;\n",
              "    }\n",
              "</style>\n",
              "<table border=\"1\" class=\"dataframe\">\n",
              "  <thead>\n",
              "    <tr style=\"text-align: right;\">\n",
              "      <th></th>\n",
              "      <th>reviews_rating</th>\n",
              "      <th>reviews</th>\n",
              "    </tr>\n",
              "  </thead>\n",
              "  <tbody>\n",
              "    <tr>\n",
              "      <th>0</th>\n",
              "      <td>1</td>\n",
              "      <td>Not happy with product</td>\n",
              "    </tr>\n",
              "    <tr>\n",
              "      <th>1</th>\n",
              "      <td>1</td>\n",
              "      <td>It's not as expected.</td>\n",
              "    </tr>\n",
              "    <tr>\n",
              "      <th>2</th>\n",
              "      <td>3</td>\n",
              "      <td>AVERAGE PRODUCT</td>\n",
              "    </tr>\n",
              "    <tr>\n",
              "      <th>3</th>\n",
              "      <td>3</td>\n",
              "      <td>Pic more beautiful</td>\n",
              "    </tr>\n",
              "    <tr>\n",
              "      <th>4</th>\n",
              "      <td>3</td>\n",
              "      <td>Got damage product. But quality is average for...</td>\n",
              "    </tr>\n",
              "  </tbody>\n",
              "</table>\n",
              "</div>"
            ],
            "text/plain": [
              "   reviews_rating                                            reviews\n",
              "0               1                             Not happy with product\n",
              "1               1                              It's not as expected.\n",
              "2               3                                    AVERAGE PRODUCT\n",
              "3               3                                 Pic more beautiful\n",
              "4               3  Got damage product. But quality is average for..."
            ]
          },
          "metadata": {},
          "execution_count": 28
        }
      ]
    },
    {
      "cell_type": "code",
      "metadata": {
        "id": "JFJ6UldtGpzh"
      },
      "source": [
        "def detect_language(text) -> str:\n",
        "    return detect(text)\n",
        "\n",
        "def preprocess(text: str) -> str:\n",
        "    text = text.lower()\n",
        "    tokens = word_tokenize(text)\n",
        "    new_tokens = [token for token in tokens if token.isalpha() and token not in stop_words]\n",
        "    \n",
        "    return ' '.join(new_tokens)"
      ],
      "execution_count": 29,
      "outputs": []
    },
    {
      "cell_type": "markdown",
      "metadata": {
        "id": "R50p6JjGKlxk"
      },
      "source": [
        "Делаем препроцессинг, убираем не-английские отзывы, выкидываем пропущенные значения"
      ]
    },
    {
      "cell_type": "code",
      "metadata": {
        "id": "RNwsaMG5HYPx"
      },
      "source": [
        "df_2['reviews'] = df_2.reviews.apply(preprocess)\n",
        "df_2.dropna()\n",
        "df_2 = df_2[(df_2.reviews != ' ') & (df_2.reviews != '')]\n",
        "df_2['lang'] = df_2.reviews.apply(detect)\n",
        "df_2 = df_2[df_2.lang == 'en']"
      ],
      "execution_count": 30,
      "outputs": []
    },
    {
      "cell_type": "markdown",
      "metadata": {
        "id": "241yhO8HKyy-"
      },
      "source": [
        "Количество данных"
      ]
    },
    {
      "cell_type": "code",
      "metadata": {
        "colab": {
          "base_uri": "https://localhost:8080/"
        },
        "id": "N4EUw0l3bpwy",
        "outputId": "dee10140-8ae5-43be-af29-22baa90323ff"
      },
      "source": [
        "df_2.shape"
      ],
      "execution_count": 31,
      "outputs": [
        {
          "output_type": "execute_result",
          "data": {
            "text/plain": [
              "(5345, 3)"
            ]
          },
          "metadata": {},
          "execution_count": 31
        }
      ]
    },
    {
      "cell_type": "markdown",
      "metadata": {
        "id": "2BqTyxY0RrJm"
      },
      "source": [
        "Сбалансированы ли классы? - видим, что примеров на класс 5 в 10 раз больше, чем примеров на класс 2"
      ]
    },
    {
      "cell_type": "code",
      "metadata": {
        "colab": {
          "base_uri": "https://localhost:8080/"
        },
        "id": "4FbGDSC8RwBh",
        "outputId": "ecb5c1bc-ec0b-4187-f858-1c9b3bee1ccb"
      },
      "source": [
        "df_2.reviews_rating.value_counts()"
      ],
      "execution_count": 32,
      "outputs": [
        {
          "output_type": "execute_result",
          "data": {
            "text/plain": [
              "5    2639\n",
              "1     996\n",
              "4     939\n",
              "3     476\n",
              "2     295\n",
              "Name: reviews_rating, dtype: int64"
            ]
          },
          "metadata": {},
          "execution_count": 32
        }
      ]
    },
    {
      "cell_type": "markdown",
      "metadata": {
        "id": "hQdhvl5WSBoM"
      },
      "source": [
        "А как распределены длины отзывов? - после препроцессинга все достаточно короткие, состоящие из пары слов, есть только несколько выбросов с длиной больше 10"
      ]
    },
    {
      "cell_type": "code",
      "metadata": {
        "colab": {
          "base_uri": "https://localhost:8080/",
          "height": 284
        },
        "id": "dBPekLkiSfJ3",
        "outputId": "64895cac-f427-4c61-8986-e0492a7bd427"
      },
      "source": [
        "def get_length(text: str) -> int:\n",
        "    return len(word_tokenize(text))\n",
        "\n",
        "df_2['reviews_len'] = df_2.reviews.apply(get_length)\n",
        "df_2.boxplot(column=['reviews_len'])"
      ],
      "execution_count": 33,
      "outputs": [
        {
          "output_type": "execute_result",
          "data": {
            "text/plain": [
              "<matplotlib.axes._subplots.AxesSubplot at 0x7fd17fdc62d0>"
            ]
          },
          "metadata": {},
          "execution_count": 33
        },
        {
          "output_type": "display_data",
          "data": {
            "image/png": "[encoded data removed]",
            "text/plain": [
              "<Figure size 432x288 with 1 Axes>"
            ]
          },
          "metadata": {
            "needs_background": "light"
          }
        }
      ]
    },
    {
      "cell_type": "code",
      "metadata": {
        "colab": {
          "base_uri": "https://localhost:8080/",
          "height": 204
        },
        "id": "4QDed1dMgLy2",
        "outputId": "854be02c-a94d-4b7f-d73e-05ac8285479b"
      },
      "source": [
        "df_2.head()"
      ],
      "execution_count": 34,
      "outputs": [
        {
          "output_type": "execute_result",
          "data": {
            "text/html": [
              "<div>\n",
              "<style scoped>\n",
              "    .dataframe tbody tr th:only-of-type {\n",
              "        vertical-align: middle;\n",
              "    }\n",
              "\n",
              "    .dataframe tbody tr th {\n",
              "        vertical-align: top;\n",
              "    }\n",
              "\n",
              "    .dataframe thead th {\n",
              "        text-align: right;\n",
              "    }\n",
              "</style>\n",
              "<table border=\"1\" class=\"dataframe\">\n",
              "  <thead>\n",
              "    <tr style=\"text-align: right;\">\n",
              "      <th></th>\n",
              "      <th>reviews_rating</th>\n",
              "      <th>reviews</th>\n",
              "      <th>lang</th>\n",
              "      <th>reviews_len</th>\n",
              "    </tr>\n",
              "  </thead>\n",
              "  <tbody>\n",
              "    <tr>\n",
              "      <th>0</th>\n",
              "      <td>1</td>\n",
              "      <td>not happy product</td>\n",
              "      <td>en</td>\n",
              "      <td>3</td>\n",
              "    </tr>\n",
              "    <tr>\n",
              "      <th>1</th>\n",
              "      <td>1</td>\n",
              "      <td>not expected</td>\n",
              "      <td>en</td>\n",
              "      <td>2</td>\n",
              "    </tr>\n",
              "    <tr>\n",
              "      <th>5</th>\n",
              "      <td>2</td>\n",
              "      <td>bad product different listed</td>\n",
              "      <td>en</td>\n",
              "      <td>4</td>\n",
              "    </tr>\n",
              "    <tr>\n",
              "      <th>6</th>\n",
              "      <td>1</td>\n",
              "      <td>worst product</td>\n",
              "      <td>en</td>\n",
              "      <td>2</td>\n",
              "    </tr>\n",
              "    <tr>\n",
              "      <th>8</th>\n",
              "      <td>1</td>\n",
              "      <td>low quality makes pain heals sharp edges insid...</td>\n",
              "      <td>en</td>\n",
              "      <td>9</td>\n",
              "    </tr>\n",
              "  </tbody>\n",
              "</table>\n",
              "</div>"
            ],
            "text/plain": [
              "   reviews_rating  ... reviews_len\n",
              "0               1  ...           3\n",
              "1               1  ...           2\n",
              "5               2  ...           4\n",
              "6               1  ...           2\n",
              "8               1  ...           9\n",
              "\n",
              "[5 rows x 4 columns]"
            ]
          },
          "metadata": {},
          "execution_count": 34
        }
      ]
    },
    {
      "cell_type": "markdown",
      "metadata": {
        "id": "VK1B1Rk2K1pv"
      },
      "source": [
        "Гридсерч по разным моделям"
      ]
    },
    {
      "cell_type": "code",
      "metadata": {
        "id": "sHoijvJdlY1C"
      },
      "source": [
        "y = df_2.reviews_rating.values\n",
        "X = df_2.reviews.values\n",
        "\n",
        "data_train, data_test, y_train, y_test = train_test_split(X, y, test_size=0.2, random_state=42)"
      ],
      "execution_count": 35,
      "outputs": []
    },
    {
      "cell_type": "code",
      "metadata": {
        "id": "OVphPHPhg7E0"
      },
      "source": [
        "from sklearn.linear_model import LogisticRegression\n",
        "from sklearn.ensemble import RandomForestClassifier\n",
        "from sklearn.tree import DecisionTreeClassifier\n",
        "from sklearn import svm\n",
        "from sklearn.metrics import classification_report"
      ],
      "execution_count": 36,
      "outputs": []
    },
    {
      "cell_type": "code",
      "metadata": {
        "id": "S_hKQ-vfmfK9"
      },
      "source": [
        "pipe_lr_c = Pipeline([('cvec', CountVectorizer()),\n",
        "                    ('LR', LogisticRegression(random_state=42))])\n",
        "\n",
        "pipe_dt_c = Pipeline([('cvec', CountVectorizer()),\n",
        "                    ('DT', DecisionTreeClassifier(random_state=42))])\n",
        "\n",
        "pipe_rf_c = Pipeline([('cvec', CountVectorizer()),\n",
        "                    ('RF', RandomForestClassifier(random_state=42))])\n",
        "\n",
        "pipe_svm_c = Pipeline([('cvec', CountVectorizer()),\n",
        "                     ('SVM', svm.SVC(random_state=42))])\n",
        "\n",
        "\n",
        "pipe_lr = Pipeline([('tfidf', TfidfVectorizer()),\n",
        "                    ('LR', LogisticRegression(random_state=42))])\n",
        "\n",
        "pipe_dt = Pipeline([('tfidf', TfidfVectorizer()),\n",
        "                    ('DT', DecisionTreeClassifier(random_state=42))])\n",
        "\n",
        "pipe_rf = Pipeline([('tfidf', TfidfVectorizer()),\n",
        "                    ('RF', RandomForestClassifier(random_state=42))])\n",
        "\n",
        "pipe_svm = Pipeline([('tfidf', TfidfVectorizer()),\n",
        "                     ('SVM', svm.SVC(random_state=42))])\n",
        "\n",
        "\n",
        "param_range = [1, 2, 3, 4, 5, 6]\n",
        "param_range_fl = [1.0, 0.5, 0.1]\n",
        "n_estimators = [50, 100, 150]\n",
        "learning_rates = [0.001, 0.1, 0.5]\n",
        "\n",
        "\n",
        "lr_param_grid = [{'LR__penalty': ['l1', 'l2'],\n",
        "                   'LR__C': param_range_fl,\n",
        "                   'LR__solver': ['liblinear']}]\n",
        "\n",
        "dt_param_grid = [{'DT__criterion': ['gini', 'entropy'],\n",
        "                   'DT__min_samples_leaf': param_range,\n",
        "                   'DT__max_depth': param_range,\n",
        "                   'DT__min_samples_split': param_range[1:]}]\n",
        "\n",
        "rf_param_grid = [{'RF__min_samples_leaf': param_range,\n",
        "                   'RF__max_depth': param_range,\n",
        "                   'RF__min_samples_split': param_range[1:]}]\n",
        "\n",
        "svm_param_grid = [{'SVM__kernel': ['linear', 'rbf'], \n",
        "                    'SVM__C': param_range}]\n"
      ],
      "execution_count": 37,
      "outputs": []
    },
    {
      "cell_type": "code",
      "metadata": {
        "id": "IwA7XzzUdB1g"
      },
      "source": [
        "lr_gs_c = GridSearchCV(pipe_lr_c, param_grid=lr_param_grid, cv = 3, verbose = 0, n_jobs = -1, scoring='accuracy').fit(data_train, y_train)\n",
        "dt_gs_c = GridSearchCV(pipe_dt_c, param_grid=dt_param_grid, cv = 3, verbose = 0, n_jobs = -1, scoring='accuracy').fit(data_train, y_train)\n",
        "rf_gs_c = GridSearchCV(pipe_rf_c, param_grid=rf_param_grid, cv = 3, verbose = 0, n_jobs = -1, scoring='accuracy').fit(data_train, y_train)\n",
        "svm_gs_c = GridSearchCV(pipe_svm_c, param_grid=svm_param_grid, cv = 3, verbose = 0, n_jobs = -1, scoring='accuracy').fit(data_train, y_train)\n",
        "\n",
        "lr_gs = GridSearchCV(pipe_lr, param_grid=lr_param_grid, cv = 3, verbose = 0, n_jobs = -1, scoring='accuracy').fit(data_train, y_train)\n",
        "dt_gs = GridSearchCV(pipe_dt, param_grid=dt_param_grid, cv = 3, verbose = 0, n_jobs = -1, scoring='accuracy').fit(data_train, y_train)\n",
        "rf_gs = GridSearchCV(pipe_rf, param_grid=rf_param_grid, cv = 3, verbose = 0, n_jobs = -1, scoring='accuracy').fit(data_train, y_train)\n",
        "svm_gs = GridSearchCV(pipe_svm, param_grid=svm_param_grid, cv = 3, verbose = 0, n_jobs = -1, scoring='accuracy').fit(data_train, y_train)"
      ],
      "execution_count": 38,
      "outputs": []
    },
    {
      "cell_type": "code",
      "metadata": {
        "colab": {
          "base_uri": "https://localhost:8080/"
        },
        "id": "Zhc6ofvWk5hc",
        "outputId": "9a546266-af83-4280-aa28-08b642472aa4"
      },
      "source": [
        "print('Best Score LogReg + CountVect: %s' % lr_gs_c.best_score_)\n",
        "print('Best LogReg Hyperparameters: %s' % lr_gs_c.best_params_)\n",
        "print('\\n')\n",
        "\n",
        "print('Best Score DecisionTree + CountVect: %s' % dt_gs_c.best_score_)\n",
        "print('Best DecisionTree Hyperparameters: %s' % dt_gs_c.best_params_)\n",
        "print('\\n')\n",
        "\n",
        "print('Best Score RandomForest + CountVect: %s' % rf_gs_c.best_score_)\n",
        "print('Best RandomForest Hyperparameters: %s' % rf_gs_c.best_params_)\n",
        "print('\\n')\n",
        "\n",
        "print('Best Score SVM + CountVect: %s' % svm_gs_c.best_score_)\n",
        "print('Best SVM Hyperparameters: %s' % svm_gs_c.best_params_)\n",
        "print('\\n')\n",
        "\n",
        "print('Best Score LogReg + TfIdf: %s' % lr_gs.best_score_)\n",
        "print('Best LogReg Hyperparameters: %s' % lr_gs.best_params_)\n",
        "print('\\n')\n",
        "\n",
        "print('Best Score DecisionTree + TfIdf: %s' % dt_gs.best_score_)\n",
        "print('Best DecisionTree Hyperparameters: %s' % dt_gs.best_params_)\n",
        "print('\\n')\n",
        "\n",
        "print('Best Score RandomForest + TfIdf: %s' % rf_gs.best_score_)\n",
        "print('Best RandomForest Hyperparameters: %s' % rf_gs.best_params_)\n",
        "print('\\n')\n",
        "\n",
        "print('Best Score SVM + TfIdf: %s' % svm_gs.best_score_)\n",
        "print('Best SVM Hyperparameters: %s' % svm_gs.best_params_)"
      ],
      "execution_count": 39,
      "outputs": [
        {
          "output_type": "stream",
          "name": "stdout",
          "text": [
            "Best Score LogReg + CountVect: 0.6456950698391607\n",
            "Best LogReg Hyperparameters: {'LR__C': 1.0, 'LR__penalty': 'l2', 'LR__solver': 'liblinear'}\n",
            "\n",
            "\n",
            "Best Score DecisionTree + CountVect: 0.583956267480295\n",
            "Best DecisionTree Hyperparameters: {'DT__criterion': 'gini', 'DT__max_depth': 6, 'DT__min_samples_leaf': 1, 'DT__min_samples_split': 2}\n",
            "\n",
            "\n",
            "Best Score RandomForest + CountVect: 0.5018708529153647\n",
            "Best RandomForest Hyperparameters: {'RF__max_depth': 6, 'RF__min_samples_leaf': 1, 'RF__min_samples_split': 3}\n",
            "\n",
            "\n",
            "Best Score SVM + CountVect: 0.6681500619243294\n",
            "Best SVM Hyperparameters: {'SVM__C': 2, 'SVM__kernel': 'rbf'}\n",
            "\n",
            "\n",
            "Best Score LogReg + TfIdf: 0.6417205941454852\n",
            "Best LogReg Hyperparameters: {'LR__C': 1.0, 'LR__penalty': 'l2', 'LR__solver': 'liblinear'}\n",
            "\n",
            "\n",
            "Best Score DecisionTree + TfIdf: 0.5820857426408471\n",
            "Best DecisionTree Hyperparameters: {'DT__criterion': 'gini', 'DT__max_depth': 6, 'DT__min_samples_leaf': 1, 'DT__min_samples_split': 5}\n",
            "\n",
            "\n",
            "Best Score RandomForest + TfIdf: 0.5011697546812333\n",
            "Best RandomForest Hyperparameters: {'RF__max_depth': 6, 'RF__min_samples_leaf': 2, 'RF__min_samples_split': 2}\n",
            "\n",
            "\n",
            "Best Score SVM + TfIdf: 0.6639405198362901\n",
            "Best SVM Hyperparameters: {'SVM__C': 2, 'SVM__kernel': 'rbf'}\n"
          ]
        }
      ]
    },
    {
      "cell_type": "markdown",
      "metadata": {
        "id": "4w66hIG3NKeM"
      },
      "source": [
        "Лучшей моделью оказался SVM, причем разные векторайзеры совсем незначительно отличаются по результату, теперь отдельно интересно посмотреть на лучшие параметры векторизатора"
      ]
    },
    {
      "cell_type": "code",
      "metadata": {
        "colab": {
          "base_uri": "https://localhost:8080/"
        },
        "id": "sSYQWnSEL3I5",
        "outputId": "73dae8fa-b1d9-495c-e9ac-76e16eecbc55"
      },
      "source": [
        "tfidf_pipe = Pipeline([('tfidf', TfidfVectorizer()),\n",
        "                     ('SVM', svm.SVC(C=2, kernel='rbf', random_state=42))])\n",
        "\n",
        "count_pipe = Pipeline([('count', CountVectorizer()),\n",
        "                     ('SVM', svm.SVC(C=2, kernel='rbf', random_state=42))])\n",
        "\n",
        "tfidf_param_grid = [{'tfidf__max_features':[None, 100, 2000, 10000],\n",
        "                     'tfidf__ngram_range': [(1, 1), (1, 2), (2, 2)],\n",
        "                     'tfidf__min_df': [1, 5, 10]}]\n",
        "\n",
        "count_param_grid = [{'count__max_features':[None, 100, 2000, 10000],\n",
        "                     'count__ngram_range': [(1, 1), (1, 2), (2, 2)],\n",
        "                     'count__min_df': [1, 5, 10]}]\n",
        "\n",
        "\n",
        "tfidf_gs = GridSearchCV(tfidf_pipe, param_grid=tfidf_param_grid, cv = 3, verbose = 0, n_jobs = -1, scoring='accuracy').fit(data_train, y_train)\n",
        "count_gs = GridSearchCV(count_pipe, param_grid=count_param_grid, cv = 3, verbose = 0, n_jobs = -1, scoring='accuracy').fit(data_train, y_train)\n",
        "\n",
        "print('Best Score TfIdf: %s' % tfidf_gs.best_score_)\n",
        "print('Best Vect Hyperparameters: %s' % tfidf_gs.best_params_)\n",
        "\n",
        "print('Best Score CountVect: %s' % count_gs.best_score_)\n",
        "print('Best Vect Hyperparameters: %s' % count_gs.best_params_)"
      ],
      "execution_count": 40,
      "outputs": [
        {
          "output_type": "stream",
          "name": "stdout",
          "text": [
            "Best Score TfIdf: 0.6686175701057224\n",
            "Best Vect Hyperparameters: {'tfidf__max_features': None, 'tfidf__min_df': 1, 'tfidf__ngram_range': (1, 2)}\n",
            "Best Score CountVect: 0.6721265060735054\n",
            "Best Vect Hyperparameters: {'count__max_features': None, 'count__min_df': 1, 'count__ngram_range': (1, 2)}\n"
          ]
        }
      ]
    },
    {
      "cell_type": "markdown",
      "metadata": {
        "id": "x6HgFmwZNSqk"
      },
      "source": [
        "Качество на тесте лучшей модели (неожиданно победил Каунт Векторайзер)"
      ]
    },
    {
      "cell_type": "code",
      "metadata": {
        "colab": {
          "base_uri": "https://localhost:8080/"
        },
        "id": "jan3xp8XFAQh",
        "outputId": "74be2aff-38a0-4812-fc7f-d300bb8309d0"
      },
      "source": [
        "pipe_svm = Pipeline([('cvec', CountVectorizer(max_features = None, min_df = 1, ngram_range = (1, 2))),\n",
        "                     ('SVM', svm.SVC(C=2, kernel='rbf', random_state=42))]).fit(data_train, y_train)\n",
        "y_pred = pipe_svm.predict(data_test)\n",
        "\n",
        "\n",
        "print(classification_report(y_test, y_pred))"
      ],
      "execution_count": 42,
      "outputs": [
        {
          "output_type": "stream",
          "name": "stdout",
          "text": [
            "              precision    recall  f1-score   support\n",
            "\n",
            "           1       0.67      0.71      0.69       185\n",
            "           2       0.64      0.15      0.24        62\n",
            "           3       0.66      0.32      0.43        96\n",
            "           4       0.74      0.26      0.39       213\n",
            "           5       0.66      0.95      0.78       513\n",
            "\n",
            "    accuracy                           0.67      1069\n",
            "   macro avg       0.67      0.48      0.51      1069\n",
            "weighted avg       0.68      0.67      0.62      1069\n",
            "\n"
          ]
        }
      ]
    },
    {
      "cell_type": "markdown",
      "metadata": {
        "id": "Fqai5nXgT02Y"
      },
      "source": [
        "Видно, что самые высокие показатели качества модель достигает для самых многочисленных классов (1 и 5), на маленьких намного ниже полнота и ниже точность. Матрица ниже иллюстрирует это - самые больше показатели у true 1 - pred 1 и true 5 - pred 5. Интересно при этом, что часто 5 путается с 4 (что в целом ожидаемая ошибка, классы похожи), и неожиданно, что путаются классы 1 и 5."
      ]
    },
    {
      "cell_type": "code",
      "metadata": {
        "colab": {
          "base_uri": "https://localhost:8080/",
          "height": 297
        },
        "id": "74jyz87xIsmS",
        "outputId": "1e460cbe-130e-4ea4-fe95-eb93f212a51a"
      },
      "source": [
        "from sklearn.metrics import plot_confusion_matrix\n",
        "\n",
        "plot_confusion_matrix(pipe_svm, data_test, y_test)"
      ],
      "execution_count": 44,
      "outputs": [
        {
          "output_type": "execute_result",
          "data": {
            "text/plain": [
              "<sklearn.metrics._plot.confusion_matrix.ConfusionMatrixDisplay at 0x7fd17fabce90>"
            ]
          },
          "metadata": {},
          "execution_count": 44
        },
        {
          "output_type": "display_data",
          "data": {
            "image/png": "[encoded data removed]",
            "text/plain": [
              "<Figure size 432x288 with 2 Axes>"
            ]
          },
          "metadata": {
            "needs_background": "light"
          }
        }
      ]
    },
    {
      "cell_type": "code",
      "metadata": {
        "id": "Ss7C57VXK0W-"
      },
      "source": [
        ""
      ],
      "execution_count": null,
      "outputs": []
    }
  ]
}